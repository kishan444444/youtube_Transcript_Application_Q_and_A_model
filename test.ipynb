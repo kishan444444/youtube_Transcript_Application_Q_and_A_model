{
 "cells": [
  {
   "cell_type": "code",
   "execution_count": 1,
   "metadata": {},
   "outputs": [
    {
     "ename": "ModuleNotFoundError",
     "evalue": "No module named 'speech_recognition'",
     "output_type": "error",
     "traceback": [
      "\u001b[1;31m---------------------------------------------------------------------------\u001b[0m",
      "\u001b[1;31mModuleNotFoundError\u001b[0m                       Traceback (most recent call last)",
      "Cell \u001b[1;32mIn[1], line 3\u001b[0m\n\u001b[0;32m      1\u001b[0m \u001b[38;5;28;01mimport\u001b[39;00m \u001b[38;5;21;01mstreamlit\u001b[39;00m \u001b[38;5;28;01mas\u001b[39;00m \u001b[38;5;21;01mst\u001b[39;00m\n\u001b[0;32m      2\u001b[0m \u001b[38;5;28;01mimport\u001b[39;00m \u001b[38;5;21;01mos\u001b[39;00m\n\u001b[1;32m----> 3\u001b[0m \u001b[38;5;28;01mimport\u001b[39;00m \u001b[38;5;21;01mspeech_recognition\u001b[39;00m \u001b[38;5;28;01mas\u001b[39;00m \u001b[38;5;21;01msr\u001b[39;00m\n\u001b[0;32m      4\u001b[0m \u001b[38;5;28;01mimport\u001b[39;00m \u001b[38;5;21;01mmoviepy\u001b[39;00m \u001b[38;5;28;01mas\u001b[39;00m \u001b[38;5;21;01mmoviepy\u001b[39;00m\n\u001b[0;32m      5\u001b[0m \u001b[38;5;28;01mfrom\u001b[39;00m \u001b[38;5;21;01mmoviepy\u001b[39;00m\u001b[38;5;21;01m.\u001b[39;00m\u001b[38;5;21;01meditor\u001b[39;00m \u001b[38;5;28;01mimport\u001b[39;00m AudioFileClip, VideoFileClip\n",
      "\u001b[1;31mModuleNotFoundError\u001b[0m: No module named 'speech_recognition'"
     ]
    }
   ],
   "source": [
    "import streamlit as st\n",
    "import os\n",
    "import speech_recognition as sr\n",
    "import moviepy as moviepy\n",
    "from moviepy.editor import AudioFileClip, VideoFileClip\n",
    "\n",
    "# Streamlit app setup\n",
    "st.title(\"Video File Transcription\")\n",
    "st.markdown(\"Upload a video file to generate its transcript.\")\n",
    "\n",
    "# Upload video file\n",
    "uploaded_video = st.file_uploader(\"Upload a video file (MP4, AVI, MOV, etc.):\", type=[\"mp4\", \"avi\", \"mov\", \"mkv\"])\n",
    "\n",
    "# Transcription function\n",
    "def transcribe_video(video_path):\n",
    "    try:\n",
    "        # Extract audio from video\n",
    "        st.info(\"Extracting audio from video...\")\n",
    "        video_clip = VideoFileClip(video_path)\n",
    "        audio_path = \"extracted_audio.wav\"\n",
    "        video_clip.audio.write_audiofile(audio_path)\n",
    "\n",
    "        # Perform speech recognition on the audio\n",
    "        st.info(\"Transcribing audio...\")\n",
    "        recognizer = sr.Recognizer()\n",
    "        with sr.AudioFile(audio_path) as source:\n",
    "            audio_data = recognizer.record(source)\n",
    "            transcript = recognizer.recognize_google(audio_data)\n",
    "\n",
    "        # Clean up temporary audio file\n",
    "        os.remove(audio_path)\n",
    "        return transcript\n",
    "\n",
    "    except Exception as e:\n",
    "        return f\"An error occurred during transcription: {e}\"\n",
    "\n",
    "# Process uploaded video\n",
    "if uploaded_video:\n",
    "    # Save uploaded video to a temporary file\n",
    "    temp_video_path = \"uploaded_video.mp4\"\n",
    "    with open(temp_video_path, \"wb\") as f:\n",
    "        f.write(uploaded_video.read())\n",
    "\n",
    "    st.success(\"Video uploaded successfully!\")\n",
    "\n",
    "    # Transcribe video\n",
    "    if st.button(\"Generate Transcript\"):\n",
    "        with st.spinner(\"Processing...\"):\n",
    "            transcript = transcribe_video(temp_video_path)\n",
    "            if transcript:\n",
    "                st.markdown(\"### Transcript:\")\n",
    "                st.write(transcript)\n",
    "                # Option to download the transcript\n",
    "                st.download_button(\"Download Transcript\", transcript, file_name=\"transcript.txt\")\n",
    "            else:\n",
    "                st.error(\"No transcript could be generated.\")\n",
    "\n",
    "    # Clean up the temporary video file\n",
    "    os.remove(temp_video_path)\n"
   ]
  }
 ],
 "metadata": {
  "kernelspec": {
   "display_name": "base",
   "language": "python",
   "name": "python3"
  },
  "language_info": {
   "codemirror_mode": {
    "name": "ipython",
    "version": 3
   },
   "file_extension": ".py",
   "mimetype": "text/x-python",
   "name": "python",
   "nbconvert_exporter": "python",
   "pygments_lexer": "ipython3",
   "version": "3.11.5"
  }
 },
 "nbformat": 4,
 "nbformat_minor": 2
}
